{
  "nbformat": 4,
  "nbformat_minor": 0,
  "metadata": {
    "colab": {
      "name": "NLP-Semantiment-Analysis.ipynb",
      "provenance": [],
      "collapsed_sections": [],
      "authorship_tag": "ABX9TyMqMLwwEaYtLcGXyqa9g2Jg",
      "include_colab_link": true
    },
    "kernelspec": {
      "name": "python3",
      "display_name": "Python 3"
    },
    "language_info": {
      "name": "python"
    }
  },
  "cells": [
    {
      "cell_type": "markdown",
      "metadata": {
        "id": "view-in-github",
        "colab_type": "text"
      },
      "source": [
        "<a href=\"https://colab.research.google.com/github/mr-alamdari/NLP-Semantiment-Analysis/blob/main/NLP_Semantiment_Analysis.ipynb\" target=\"_parent\"><img src=\"https://colab.research.google.com/assets/colab-badge.svg\" alt=\"Open In Colab\"/></a>"
      ]
    },
    {
      "cell_type": "code",
      "execution_count": 24,
      "metadata": {
        "id": "HCAYuvfA-tY-"
      },
      "outputs": [],
      "source": [
        "import spacy\n",
        "import numpy as np\n",
        "import pandas as pd"
      ]
    },
    {
      "cell_type": "code",
      "source": [
        "!python -m spacy download en_core_web_lg\n",
        "import en_core_web_lg\n",
        "nlp = en_core_web_lg.load()"
      ],
      "metadata": {
        "id": "E2L3K_Pr_Dti"
      },
      "execution_count": 11,
      "outputs": []
    },
    {
      "cell_type": "code",
      "source": [
        "nlp(u'Hello').vector"
      ],
      "metadata": {
        "colab": {
          "base_uri": "https://localhost:8080/"
        },
        "id": "VTISOuqxAw0w",
        "outputId": "c75de76a-8ad0-46e7-ad84-4199e6ef1be5"
      },
      "execution_count": 14,
      "outputs": [
        {
          "output_type": "execute_result",
          "data": {
            "text/plain": [
              "array([ 0.25233  ,  0.10176  , -0.67485  ,  0.21117  ,  0.43492  ,\n",
              "        0.16542  ,  0.48261  , -0.81222  ,  0.041321 ,  0.78502  ,\n",
              "       -0.077857 , -0.66324  ,  0.1464   , -0.29289  , -0.25488  ,\n",
              "        0.019293 , -0.20265  ,  0.98232  ,  0.028312 , -0.081276 ,\n",
              "       -0.1214   ,  0.13126  , -0.17648  ,  0.13556  , -0.16361  ,\n",
              "       -0.22574  ,  0.055006 , -0.20308  ,  0.20718  ,  0.095785 ,\n",
              "        0.22481  ,  0.21537  , -0.32982  , -0.12241  , -0.40031  ,\n",
              "       -0.079381 , -0.19958  , -0.015083 , -0.079139 , -0.18132  ,\n",
              "        0.20681  , -0.36196  , -0.30744  , -0.24422  , -0.23113  ,\n",
              "        0.09798  ,  0.1463   , -0.062738 ,  0.42934  , -0.078038 ,\n",
              "       -0.19627  ,  0.65093  , -0.22807  , -0.30308  , -0.12483  ,\n",
              "       -0.17568  , -0.14651  ,  0.15361  , -0.29518  ,  0.15099  ,\n",
              "       -0.51726  , -0.033564 , -0.23109  , -0.7833   ,  0.018029 ,\n",
              "       -0.15719  ,  0.02293  ,  0.49639  ,  0.029225 ,  0.05669  ,\n",
              "        0.14616  , -0.19195  ,  0.16244  ,  0.23898  ,  0.36431  ,\n",
              "        0.45263  ,  0.2456   ,  0.23803  ,  0.31399  ,  0.3487   ,\n",
              "       -0.035791 ,  0.56108  , -0.25345  ,  0.051964 , -0.10618  ,\n",
              "       -0.30962  ,  1.0585   , -0.42025  ,  0.18216  , -0.11256  ,\n",
              "        0.40576  ,  0.11784  , -0.19705  , -0.075292 ,  0.080723 ,\n",
              "       -0.02782  , -0.15617  , -0.44681  , -0.15165  ,  0.1692   ,\n",
              "        0.098255 , -0.031894 ,  0.087143 ,  0.26082  ,  0.002706 ,\n",
              "        0.1319   ,  0.34439  , -0.37894  , -0.4114   ,  0.081571 ,\n",
              "       -0.11674  , -0.43711  ,  0.011144 ,  0.099353 ,  0.26612  ,\n",
              "        0.40025  ,  0.18895  , -0.18438  , -0.30355  , -0.2725   ,\n",
              "        0.22468  , -0.40614  ,  0.15618  , -0.16043  ,  0.47147  ,\n",
              "        0.0080203,  0.56858  ,  0.21934  , -0.11181  ,  0.79925  ,\n",
              "        0.10714  , -0.50146  ,  0.063593 ,  0.069465 ,  0.15292  ,\n",
              "       -0.2747   , -0.20989  ,  0.20737  , -0.10681  ,  0.40651  ,\n",
              "       -2.6438   , -0.31139  , -0.32157  , -0.26458  , -0.35625  ,\n",
              "        0.070013 , -0.18838  ,  0.48773  , -0.26167  , -0.020805 ,\n",
              "        0.17819  ,  0.15758  , -0.13752  ,  0.056464 ,  0.30766  ,\n",
              "       -0.066136 ,  0.4748   , -0.27335  ,  0.09732  , -0.20832  ,\n",
              "        0.0039332,  0.346    , -0.08702  , -0.54924  , -0.18759  ,\n",
              "       -0.17174  ,  0.060324 , -0.13521  ,  0.10419  ,  0.30165  ,\n",
              "        0.05798  ,  0.21872  , -0.073594 , -0.20423  , -0.25279  ,\n",
              "       -0.10471  , -0.32163  ,  0.12525  , -0.31281  ,  0.0097207,\n",
              "       -0.26777  , -0.61121  , -0.11089  , -0.13652  ,  0.035135 ,\n",
              "       -0.4939   ,  0.084857 , -0.15494  , -0.063509 , -0.23935  ,\n",
              "        0.28272  ,  0.10849  , -0.3365   , -0.60764  ,  0.38576  ,\n",
              "       -0.0095438,  0.17499  , -0.52723  ,  0.62211  ,  0.19544  ,\n",
              "       -0.48977  ,  0.036582 , -0.128    , -0.016827 ,  0.25647  ,\n",
              "       -0.31698  ,  0.48257  , -0.14184  ,  0.11046  , -0.3098   ,\n",
              "       -0.63141  , -0.37268  ,  0.23183  , -0.14268  , -0.02341  ,\n",
              "        0.022255 , -0.044662 , -0.16404  , -0.25848  ,  0.1629   ,\n",
              "        0.024751 ,  0.23348  ,  0.27933  ,  0.38998  , -0.058968 ,\n",
              "        0.11355  ,  0.15673  ,  0.18583  , -0.19814  , -0.48123  ,\n",
              "       -0.035084 ,  0.078458 , -0.49833  ,  0.10855  , -0.20133  ,\n",
              "        0.05292  , -0.11583  , -0.16009  ,  0.16768  ,  0.42362  ,\n",
              "       -0.23106  ,  0.082465 ,  0.24296  , -0.16786  ,  0.0080409,\n",
              "        0.085947 ,  0.38033  ,  0.072981 ,  0.1633   ,  0.24704  ,\n",
              "       -0.11094  ,  0.15115  , -0.22068  , -0.061944 , -0.037091 ,\n",
              "       -0.087923 , -0.23181  ,  0.15035  , -0.19093  , -0.19113  ,\n",
              "       -0.11894  ,  0.094908 , -0.0043347,  0.15362  , -0.41201  ,\n",
              "       -0.3073   ,  0.18375  ,  0.40206  , -0.0034793, -0.10917  ,\n",
              "       -0.69522  ,  0.10161  , -0.079256 ,  0.40329  ,  0.22285  ,\n",
              "       -0.19374  , -0.13315  ,  0.073231 ,  0.099832 ,  0.11685  ,\n",
              "       -0.21643  , -0.1108   ,  0.10341  ,  0.097286 ,  0.11196  ,\n",
              "       -0.3894   , -0.0089363,  0.28809  , -0.10792  ,  0.028811 ,\n",
              "        0.32545  ,  0.26052  , -0.038941 ,  0.075204 ,  0.46031  ,\n",
              "       -0.06293  ,  0.21661  ,  0.17869  , -0.51917  ,  0.33591  ],\n",
              "      dtype=float32)"
            ]
          },
          "metadata": {},
          "execution_count": 14
        }
      ]
    },
    {
      "cell_type": "code",
      "source": [
        "nlp(u'Hello').vector.shape"
      ],
      "metadata": {
        "colab": {
          "base_uri": "https://localhost:8080/"
        },
        "id": "zYsXl27oBUim",
        "outputId": "f29786ac-0faf-4eec-b2e3-48a80eed1d10"
      },
      "execution_count": 15,
      "outputs": [
        {
          "output_type": "execute_result",
          "data": {
            "text/plain": [
              "(300,)"
            ]
          },
          "metadata": {},
          "execution_count": 15
        }
      ]
    },
    {
      "cell_type": "code",
      "source": [
        "nlp(u'Hello my friends, how are you doing?').vector.shape"
      ],
      "metadata": {
        "colab": {
          "base_uri": "https://localhost:8080/"
        },
        "id": "hpft2yA_C8Wp",
        "outputId": "18c85f03-1e55-4a92-825a-baee6e06978d"
      },
      "execution_count": 18,
      "outputs": [
        {
          "output_type": "execute_result",
          "data": {
            "text/plain": [
              "(300,)"
            ]
          },
          "metadata": {},
          "execution_count": 18
        }
      ]
    },
    {
      "cell_type": "code",
      "source": [
        "text = 'cat dog pet'\n",
        "tokens = nlp(text)"
      ],
      "metadata": {
        "id": "RP8uZ1G_DIGW"
      },
      "execution_count": 25,
      "outputs": []
    },
    {
      "cell_type": "code",
      "source": [
        "mat = np.zeros((len(tokens), len(tokens)))\n",
        "for i, token in enumerate(tokens):\n",
        "  for j, t in enumerate(tokens):\n",
        "    mat[i, j] = token.similarity(t)"
      ],
      "metadata": {
        "id": "y6ma6vE2Dwxe"
      },
      "execution_count": 22,
      "outputs": []
    },
    {
      "cell_type": "code",
      "source": [
        "pd.DataFrame(mat, index=text.split(), columns=text.split())"
      ],
      "metadata": {
        "colab": {
          "base_uri": "https://localhost:8080/",
          "height": 143
        },
        "id": "HDFd6EKJEXfY",
        "outputId": "269c44fd-bf83-4fe3-fb6f-ce7620b2bc8c"
      },
      "execution_count": 26,
      "outputs": [
        {
          "output_type": "execute_result",
          "data": {
            "text/plain": [
              "          cat       dog       pet\n",
              "cat  1.000000  0.801685  0.750546\n",
              "dog  0.801685  1.000000  0.805745\n",
              "pet  0.750546  0.805745  1.000000"
            ],
            "text/html": [
              "\n",
              "  <div id=\"df-c1008339-beee-4d26-a6b1-1bac465cdd3f\">\n",
              "    <div class=\"colab-df-container\">\n",
              "      <div>\n",
              "<style scoped>\n",
              "    .dataframe tbody tr th:only-of-type {\n",
              "        vertical-align: middle;\n",
              "    }\n",
              "\n",
              "    .dataframe tbody tr th {\n",
              "        vertical-align: top;\n",
              "    }\n",
              "\n",
              "    .dataframe thead th {\n",
              "        text-align: right;\n",
              "    }\n",
              "</style>\n",
              "<table border=\"1\" class=\"dataframe\">\n",
              "  <thead>\n",
              "    <tr style=\"text-align: right;\">\n",
              "      <th></th>\n",
              "      <th>cat</th>\n",
              "      <th>dog</th>\n",
              "      <th>pet</th>\n",
              "    </tr>\n",
              "  </thead>\n",
              "  <tbody>\n",
              "    <tr>\n",
              "      <th>cat</th>\n",
              "      <td>1.000000</td>\n",
              "      <td>0.801685</td>\n",
              "      <td>0.750546</td>\n",
              "    </tr>\n",
              "    <tr>\n",
              "      <th>dog</th>\n",
              "      <td>0.801685</td>\n",
              "      <td>1.000000</td>\n",
              "      <td>0.805745</td>\n",
              "    </tr>\n",
              "    <tr>\n",
              "      <th>pet</th>\n",
              "      <td>0.750546</td>\n",
              "      <td>0.805745</td>\n",
              "      <td>1.000000</td>\n",
              "    </tr>\n",
              "  </tbody>\n",
              "</table>\n",
              "</div>\n",
              "      <button class=\"colab-df-convert\" onclick=\"convertToInteractive('df-c1008339-beee-4d26-a6b1-1bac465cdd3f')\"\n",
              "              title=\"Convert this dataframe to an interactive table.\"\n",
              "              style=\"display:none;\">\n",
              "        \n",
              "  <svg xmlns=\"http://www.w3.org/2000/svg\" height=\"24px\"viewBox=\"0 0 24 24\"\n",
              "       width=\"24px\">\n",
              "    <path d=\"M0 0h24v24H0V0z\" fill=\"none\"/>\n",
              "    <path d=\"M18.56 5.44l.94 2.06.94-2.06 2.06-.94-2.06-.94-.94-2.06-.94 2.06-2.06.94zm-11 1L8.5 8.5l.94-2.06 2.06-.94-2.06-.94L8.5 2.5l-.94 2.06-2.06.94zm10 10l.94 2.06.94-2.06 2.06-.94-2.06-.94-.94-2.06-.94 2.06-2.06.94z\"/><path d=\"M17.41 7.96l-1.37-1.37c-.4-.4-.92-.59-1.43-.59-.52 0-1.04.2-1.43.59L10.3 9.45l-7.72 7.72c-.78.78-.78 2.05 0 2.83L4 21.41c.39.39.9.59 1.41.59.51 0 1.02-.2 1.41-.59l7.78-7.78 2.81-2.81c.8-.78.8-2.07 0-2.86zM5.41 20L4 18.59l7.72-7.72 1.47 1.35L5.41 20z\"/>\n",
              "  </svg>\n",
              "      </button>\n",
              "      \n",
              "  <style>\n",
              "    .colab-df-container {\n",
              "      display:flex;\n",
              "      flex-wrap:wrap;\n",
              "      gap: 12px;\n",
              "    }\n",
              "\n",
              "    .colab-df-convert {\n",
              "      background-color: #E8F0FE;\n",
              "      border: none;\n",
              "      border-radius: 50%;\n",
              "      cursor: pointer;\n",
              "      display: none;\n",
              "      fill: #1967D2;\n",
              "      height: 32px;\n",
              "      padding: 0 0 0 0;\n",
              "      width: 32px;\n",
              "    }\n",
              "\n",
              "    .colab-df-convert:hover {\n",
              "      background-color: #E2EBFA;\n",
              "      box-shadow: 0px 1px 2px rgba(60, 64, 67, 0.3), 0px 1px 3px 1px rgba(60, 64, 67, 0.15);\n",
              "      fill: #174EA6;\n",
              "    }\n",
              "\n",
              "    [theme=dark] .colab-df-convert {\n",
              "      background-color: #3B4455;\n",
              "      fill: #D2E3FC;\n",
              "    }\n",
              "\n",
              "    [theme=dark] .colab-df-convert:hover {\n",
              "      background-color: #434B5C;\n",
              "      box-shadow: 0px 1px 3px 1px rgba(0, 0, 0, 0.15);\n",
              "      filter: drop-shadow(0px 1px 2px rgba(0, 0, 0, 0.3));\n",
              "      fill: #FFFFFF;\n",
              "    }\n",
              "  </style>\n",
              "\n",
              "      <script>\n",
              "        const buttonEl =\n",
              "          document.querySelector('#df-c1008339-beee-4d26-a6b1-1bac465cdd3f button.colab-df-convert');\n",
              "        buttonEl.style.display =\n",
              "          google.colab.kernel.accessAllowed ? 'block' : 'none';\n",
              "\n",
              "        async function convertToInteractive(key) {\n",
              "          const element = document.querySelector('#df-c1008339-beee-4d26-a6b1-1bac465cdd3f');\n",
              "          const dataTable =\n",
              "            await google.colab.kernel.invokeFunction('convertToInteractive',\n",
              "                                                     [key], {});\n",
              "          if (!dataTable) return;\n",
              "\n",
              "          const docLinkHtml = 'Like what you see? Visit the ' +\n",
              "            '<a target=\"_blank\" href=https://colab.research.google.com/notebooks/data_table.ipynb>data table notebook</a>'\n",
              "            + ' to learn more about interactive tables.';\n",
              "          element.innerHTML = '';\n",
              "          dataTable['output_type'] = 'display_data';\n",
              "          await google.colab.output.renderOutput(dataTable, element);\n",
              "          const docLink = document.createElement('div');\n",
              "          docLink.innerHTML = docLinkHtml;\n",
              "          element.appendChild(docLink);\n",
              "        }\n",
              "      </script>\n",
              "    </div>\n",
              "  </div>\n",
              "  "
            ]
          },
          "metadata": {},
          "execution_count": 26
        }
      ]
    },
    {
      "cell_type": "code",
      "source": [
        "def show_similarity(text):\n",
        "  tokens = nlp(text)\n",
        "  l = len(tokens)\n",
        "  mat = np.zeros((l, l+1))\n",
        "  words_list = text.split()\n",
        "\n",
        "  for i, token in enumerate(tokens):\n",
        "    for j, t in enumerate(tokens):\n",
        "      mat[i, j] = token.similarity(t)\n",
        "    mat[i, j+1] = token.is_oov\n",
        "  return pd.DataFrame(mat, index=words_list, columns=words_list+['Out of Vocabulary'])"
      ],
      "metadata": {
        "id": "H2Rj99JgEbJv"
      },
      "execution_count": 73,
      "outputs": []
    },
    {
      "cell_type": "code",
      "source": [
        "show_similarity(text)"
      ],
      "metadata": {
        "colab": {
          "base_uri": "https://localhost:8080/",
          "height": 143
        },
        "id": "R7D8xM6fFcuv",
        "outputId": "656ae9c0-8f38-467c-adcc-f222df37f35b"
      },
      "execution_count": 74,
      "outputs": [
        {
          "output_type": "execute_result",
          "data": {
            "text/plain": [
              "          cat       dog       pet  Out of Vocabulary\n",
              "cat  1.000000  0.801685  0.750546                0.0\n",
              "dog  0.801685  1.000000  0.805745                0.0\n",
              "pet  0.750546  0.805745  1.000000                0.0"
            ],
            "text/html": [
              "\n",
              "  <div id=\"df-a59f170f-0cd9-45d4-9d3f-082306237244\">\n",
              "    <div class=\"colab-df-container\">\n",
              "      <div>\n",
              "<style scoped>\n",
              "    .dataframe tbody tr th:only-of-type {\n",
              "        vertical-align: middle;\n",
              "    }\n",
              "\n",
              "    .dataframe tbody tr th {\n",
              "        vertical-align: top;\n",
              "    }\n",
              "\n",
              "    .dataframe thead th {\n",
              "        text-align: right;\n",
              "    }\n",
              "</style>\n",
              "<table border=\"1\" class=\"dataframe\">\n",
              "  <thead>\n",
              "    <tr style=\"text-align: right;\">\n",
              "      <th></th>\n",
              "      <th>cat</th>\n",
              "      <th>dog</th>\n",
              "      <th>pet</th>\n",
              "      <th>Out of Vocabulary</th>\n",
              "    </tr>\n",
              "  </thead>\n",
              "  <tbody>\n",
              "    <tr>\n",
              "      <th>cat</th>\n",
              "      <td>1.000000</td>\n",
              "      <td>0.801685</td>\n",
              "      <td>0.750546</td>\n",
              "      <td>0.0</td>\n",
              "    </tr>\n",
              "    <tr>\n",
              "      <th>dog</th>\n",
              "      <td>0.801685</td>\n",
              "      <td>1.000000</td>\n",
              "      <td>0.805745</td>\n",
              "      <td>0.0</td>\n",
              "    </tr>\n",
              "    <tr>\n",
              "      <th>pet</th>\n",
              "      <td>0.750546</td>\n",
              "      <td>0.805745</td>\n",
              "      <td>1.000000</td>\n",
              "      <td>0.0</td>\n",
              "    </tr>\n",
              "  </tbody>\n",
              "</table>\n",
              "</div>\n",
              "      <button class=\"colab-df-convert\" onclick=\"convertToInteractive('df-a59f170f-0cd9-45d4-9d3f-082306237244')\"\n",
              "              title=\"Convert this dataframe to an interactive table.\"\n",
              "              style=\"display:none;\">\n",
              "        \n",
              "  <svg xmlns=\"http://www.w3.org/2000/svg\" height=\"24px\"viewBox=\"0 0 24 24\"\n",
              "       width=\"24px\">\n",
              "    <path d=\"M0 0h24v24H0V0z\" fill=\"none\"/>\n",
              "    <path d=\"M18.56 5.44l.94 2.06.94-2.06 2.06-.94-2.06-.94-.94-2.06-.94 2.06-2.06.94zm-11 1L8.5 8.5l.94-2.06 2.06-.94-2.06-.94L8.5 2.5l-.94 2.06-2.06.94zm10 10l.94 2.06.94-2.06 2.06-.94-2.06-.94-.94-2.06-.94 2.06-2.06.94z\"/><path d=\"M17.41 7.96l-1.37-1.37c-.4-.4-.92-.59-1.43-.59-.52 0-1.04.2-1.43.59L10.3 9.45l-7.72 7.72c-.78.78-.78 2.05 0 2.83L4 21.41c.39.39.9.59 1.41.59.51 0 1.02-.2 1.41-.59l7.78-7.78 2.81-2.81c.8-.78.8-2.07 0-2.86zM5.41 20L4 18.59l7.72-7.72 1.47 1.35L5.41 20z\"/>\n",
              "  </svg>\n",
              "      </button>\n",
              "      \n",
              "  <style>\n",
              "    .colab-df-container {\n",
              "      display:flex;\n",
              "      flex-wrap:wrap;\n",
              "      gap: 12px;\n",
              "    }\n",
              "\n",
              "    .colab-df-convert {\n",
              "      background-color: #E8F0FE;\n",
              "      border: none;\n",
              "      border-radius: 50%;\n",
              "      cursor: pointer;\n",
              "      display: none;\n",
              "      fill: #1967D2;\n",
              "      height: 32px;\n",
              "      padding: 0 0 0 0;\n",
              "      width: 32px;\n",
              "    }\n",
              "\n",
              "    .colab-df-convert:hover {\n",
              "      background-color: #E2EBFA;\n",
              "      box-shadow: 0px 1px 2px rgba(60, 64, 67, 0.3), 0px 1px 3px 1px rgba(60, 64, 67, 0.15);\n",
              "      fill: #174EA6;\n",
              "    }\n",
              "\n",
              "    [theme=dark] .colab-df-convert {\n",
              "      background-color: #3B4455;\n",
              "      fill: #D2E3FC;\n",
              "    }\n",
              "\n",
              "    [theme=dark] .colab-df-convert:hover {\n",
              "      background-color: #434B5C;\n",
              "      box-shadow: 0px 1px 3px 1px rgba(0, 0, 0, 0.15);\n",
              "      filter: drop-shadow(0px 1px 2px rgba(0, 0, 0, 0.3));\n",
              "      fill: #FFFFFF;\n",
              "    }\n",
              "  </style>\n",
              "\n",
              "      <script>\n",
              "        const buttonEl =\n",
              "          document.querySelector('#df-a59f170f-0cd9-45d4-9d3f-082306237244 button.colab-df-convert');\n",
              "        buttonEl.style.display =\n",
              "          google.colab.kernel.accessAllowed ? 'block' : 'none';\n",
              "\n",
              "        async function convertToInteractive(key) {\n",
              "          const element = document.querySelector('#df-a59f170f-0cd9-45d4-9d3f-082306237244');\n",
              "          const dataTable =\n",
              "            await google.colab.kernel.invokeFunction('convertToInteractive',\n",
              "                                                     [key], {});\n",
              "          if (!dataTable) return;\n",
              "\n",
              "          const docLinkHtml = 'Like what you see? Visit the ' +\n",
              "            '<a target=\"_blank\" href=https://colab.research.google.com/notebooks/data_table.ipynb>data table notebook</a>'\n",
              "            + ' to learn more about interactive tables.';\n",
              "          element.innerHTML = '';\n",
              "          dataTable['output_type'] = 'display_data';\n",
              "          await google.colab.output.renderOutput(dataTable, element);\n",
              "          const docLink = document.createElement('div');\n",
              "          docLink.innerHTML = docLinkHtml;\n",
              "          element.appendChild(docLink);\n",
              "        }\n",
              "      </script>\n",
              "    </div>\n",
              "  </div>\n",
              "  "
            ]
          },
          "metadata": {},
          "execution_count": 74
        }
      ]
    },
    {
      "cell_type": "code",
      "source": [
        "show_similarity('Hello ESI cat where is your owner are you lost')"
      ],
      "metadata": {
        "colab": {
          "base_uri": "https://localhost:8080/",
          "height": 444
        },
        "id": "9xJW1cSGFeyy",
        "outputId": "5ce6b77d-48f1-44b6-8e6b-b674f47c9c3d"
      },
      "execution_count": 75,
      "outputs": [
        {
          "output_type": "execute_result",
          "data": {
            "text/plain": [
              "          Hello       ESI       cat     where        is      your     owner  \\\n",
              "Hello  1.000000  0.036048  0.384001  0.287855  0.183826  0.273613  0.181252   \n",
              "ESI    0.036048  1.000000  0.024285 -0.148939 -0.152116 -0.138807 -0.083097   \n",
              "cat    0.384001  0.024285  1.000000  0.305819  0.282202  0.287218  0.327468   \n",
              "where  0.287855 -0.148939  0.305819  1.000000  0.599389  0.419725  0.394735   \n",
              "is     0.183826 -0.152116  0.282202  0.599389  1.000000  0.411793  0.393141   \n",
              "your   0.273613 -0.138807  0.287218  0.419725  0.411793  1.000000  0.324524   \n",
              "owner  0.181252 -0.083097  0.327468  0.394735  0.393141  0.324524  1.000000   \n",
              "are    0.167476 -0.190228  0.204125  0.521610  0.522805  0.370905  0.224684   \n",
              "you    0.411057 -0.181187  0.308080  0.639354  0.533453  0.780124  0.364087   \n",
              "lost   0.220646 -0.051483  0.279148  0.467560  0.340251  0.323926  0.332178   \n",
              "\n",
              "            are       you      lost  Out of Vocabulary  \n",
              "Hello  0.167476  0.411057  0.220646                0.0  \n",
              "ESI   -0.190228 -0.181187 -0.051483                0.0  \n",
              "cat    0.204125  0.308080  0.279148                0.0  \n",
              "where  0.521610  0.639354  0.467560                0.0  \n",
              "is     0.522805  0.533453  0.340251                0.0  \n",
              "your   0.370905  0.780124  0.323926                0.0  \n",
              "owner  0.224684  0.364087  0.332178                0.0  \n",
              "are    1.000000  0.563189  0.319569                0.0  \n",
              "you    0.563189  1.000000  0.381077                0.0  \n",
              "lost   0.319569  0.381077  1.000000                0.0  "
            ],
            "text/html": [
              "\n",
              "  <div id=\"df-023d646d-0094-4f06-9251-b097dc254737\">\n",
              "    <div class=\"colab-df-container\">\n",
              "      <div>\n",
              "<style scoped>\n",
              "    .dataframe tbody tr th:only-of-type {\n",
              "        vertical-align: middle;\n",
              "    }\n",
              "\n",
              "    .dataframe tbody tr th {\n",
              "        vertical-align: top;\n",
              "    }\n",
              "\n",
              "    .dataframe thead th {\n",
              "        text-align: right;\n",
              "    }\n",
              "</style>\n",
              "<table border=\"1\" class=\"dataframe\">\n",
              "  <thead>\n",
              "    <tr style=\"text-align: right;\">\n",
              "      <th></th>\n",
              "      <th>Hello</th>\n",
              "      <th>ESI</th>\n",
              "      <th>cat</th>\n",
              "      <th>where</th>\n",
              "      <th>is</th>\n",
              "      <th>your</th>\n",
              "      <th>owner</th>\n",
              "      <th>are</th>\n",
              "      <th>you</th>\n",
              "      <th>lost</th>\n",
              "      <th>Out of Vocabulary</th>\n",
              "    </tr>\n",
              "  </thead>\n",
              "  <tbody>\n",
              "    <tr>\n",
              "      <th>Hello</th>\n",
              "      <td>1.000000</td>\n",
              "      <td>0.036048</td>\n",
              "      <td>0.384001</td>\n",
              "      <td>0.287855</td>\n",
              "      <td>0.183826</td>\n",
              "      <td>0.273613</td>\n",
              "      <td>0.181252</td>\n",
              "      <td>0.167476</td>\n",
              "      <td>0.411057</td>\n",
              "      <td>0.220646</td>\n",
              "      <td>0.0</td>\n",
              "    </tr>\n",
              "    <tr>\n",
              "      <th>ESI</th>\n",
              "      <td>0.036048</td>\n",
              "      <td>1.000000</td>\n",
              "      <td>0.024285</td>\n",
              "      <td>-0.148939</td>\n",
              "      <td>-0.152116</td>\n",
              "      <td>-0.138807</td>\n",
              "      <td>-0.083097</td>\n",
              "      <td>-0.190228</td>\n",
              "      <td>-0.181187</td>\n",
              "      <td>-0.051483</td>\n",
              "      <td>0.0</td>\n",
              "    </tr>\n",
              "    <tr>\n",
              "      <th>cat</th>\n",
              "      <td>0.384001</td>\n",
              "      <td>0.024285</td>\n",
              "      <td>1.000000</td>\n",
              "      <td>0.305819</td>\n",
              "      <td>0.282202</td>\n",
              "      <td>0.287218</td>\n",
              "      <td>0.327468</td>\n",
              "      <td>0.204125</td>\n",
              "      <td>0.308080</td>\n",
              "      <td>0.279148</td>\n",
              "      <td>0.0</td>\n",
              "    </tr>\n",
              "    <tr>\n",
              "      <th>where</th>\n",
              "      <td>0.287855</td>\n",
              "      <td>-0.148939</td>\n",
              "      <td>0.305819</td>\n",
              "      <td>1.000000</td>\n",
              "      <td>0.599389</td>\n",
              "      <td>0.419725</td>\n",
              "      <td>0.394735</td>\n",
              "      <td>0.521610</td>\n",
              "      <td>0.639354</td>\n",
              "      <td>0.467560</td>\n",
              "      <td>0.0</td>\n",
              "    </tr>\n",
              "    <tr>\n",
              "      <th>is</th>\n",
              "      <td>0.183826</td>\n",
              "      <td>-0.152116</td>\n",
              "      <td>0.282202</td>\n",
              "      <td>0.599389</td>\n",
              "      <td>1.000000</td>\n",
              "      <td>0.411793</td>\n",
              "      <td>0.393141</td>\n",
              "      <td>0.522805</td>\n",
              "      <td>0.533453</td>\n",
              "      <td>0.340251</td>\n",
              "      <td>0.0</td>\n",
              "    </tr>\n",
              "    <tr>\n",
              "      <th>your</th>\n",
              "      <td>0.273613</td>\n",
              "      <td>-0.138807</td>\n",
              "      <td>0.287218</td>\n",
              "      <td>0.419725</td>\n",
              "      <td>0.411793</td>\n",
              "      <td>1.000000</td>\n",
              "      <td>0.324524</td>\n",
              "      <td>0.370905</td>\n",
              "      <td>0.780124</td>\n",
              "      <td>0.323926</td>\n",
              "      <td>0.0</td>\n",
              "    </tr>\n",
              "    <tr>\n",
              "      <th>owner</th>\n",
              "      <td>0.181252</td>\n",
              "      <td>-0.083097</td>\n",
              "      <td>0.327468</td>\n",
              "      <td>0.394735</td>\n",
              "      <td>0.393141</td>\n",
              "      <td>0.324524</td>\n",
              "      <td>1.000000</td>\n",
              "      <td>0.224684</td>\n",
              "      <td>0.364087</td>\n",
              "      <td>0.332178</td>\n",
              "      <td>0.0</td>\n",
              "    </tr>\n",
              "    <tr>\n",
              "      <th>are</th>\n",
              "      <td>0.167476</td>\n",
              "      <td>-0.190228</td>\n",
              "      <td>0.204125</td>\n",
              "      <td>0.521610</td>\n",
              "      <td>0.522805</td>\n",
              "      <td>0.370905</td>\n",
              "      <td>0.224684</td>\n",
              "      <td>1.000000</td>\n",
              "      <td>0.563189</td>\n",
              "      <td>0.319569</td>\n",
              "      <td>0.0</td>\n",
              "    </tr>\n",
              "    <tr>\n",
              "      <th>you</th>\n",
              "      <td>0.411057</td>\n",
              "      <td>-0.181187</td>\n",
              "      <td>0.308080</td>\n",
              "      <td>0.639354</td>\n",
              "      <td>0.533453</td>\n",
              "      <td>0.780124</td>\n",
              "      <td>0.364087</td>\n",
              "      <td>0.563189</td>\n",
              "      <td>1.000000</td>\n",
              "      <td>0.381077</td>\n",
              "      <td>0.0</td>\n",
              "    </tr>\n",
              "    <tr>\n",
              "      <th>lost</th>\n",
              "      <td>0.220646</td>\n",
              "      <td>-0.051483</td>\n",
              "      <td>0.279148</td>\n",
              "      <td>0.467560</td>\n",
              "      <td>0.340251</td>\n",
              "      <td>0.323926</td>\n",
              "      <td>0.332178</td>\n",
              "      <td>0.319569</td>\n",
              "      <td>0.381077</td>\n",
              "      <td>1.000000</td>\n",
              "      <td>0.0</td>\n",
              "    </tr>\n",
              "  </tbody>\n",
              "</table>\n",
              "</div>\n",
              "      <button class=\"colab-df-convert\" onclick=\"convertToInteractive('df-023d646d-0094-4f06-9251-b097dc254737')\"\n",
              "              title=\"Convert this dataframe to an interactive table.\"\n",
              "              style=\"display:none;\">\n",
              "        \n",
              "  <svg xmlns=\"http://www.w3.org/2000/svg\" height=\"24px\"viewBox=\"0 0 24 24\"\n",
              "       width=\"24px\">\n",
              "    <path d=\"M0 0h24v24H0V0z\" fill=\"none\"/>\n",
              "    <path d=\"M18.56 5.44l.94 2.06.94-2.06 2.06-.94-2.06-.94-.94-2.06-.94 2.06-2.06.94zm-11 1L8.5 8.5l.94-2.06 2.06-.94-2.06-.94L8.5 2.5l-.94 2.06-2.06.94zm10 10l.94 2.06.94-2.06 2.06-.94-2.06-.94-.94-2.06-.94 2.06-2.06.94z\"/><path d=\"M17.41 7.96l-1.37-1.37c-.4-.4-.92-.59-1.43-.59-.52 0-1.04.2-1.43.59L10.3 9.45l-7.72 7.72c-.78.78-.78 2.05 0 2.83L4 21.41c.39.39.9.59 1.41.59.51 0 1.02-.2 1.41-.59l7.78-7.78 2.81-2.81c.8-.78.8-2.07 0-2.86zM5.41 20L4 18.59l7.72-7.72 1.47 1.35L5.41 20z\"/>\n",
              "  </svg>\n",
              "      </button>\n",
              "      \n",
              "  <style>\n",
              "    .colab-df-container {\n",
              "      display:flex;\n",
              "      flex-wrap:wrap;\n",
              "      gap: 12px;\n",
              "    }\n",
              "\n",
              "    .colab-df-convert {\n",
              "      background-color: #E8F0FE;\n",
              "      border: none;\n",
              "      border-radius: 50%;\n",
              "      cursor: pointer;\n",
              "      display: none;\n",
              "      fill: #1967D2;\n",
              "      height: 32px;\n",
              "      padding: 0 0 0 0;\n",
              "      width: 32px;\n",
              "    }\n",
              "\n",
              "    .colab-df-convert:hover {\n",
              "      background-color: #E2EBFA;\n",
              "      box-shadow: 0px 1px 2px rgba(60, 64, 67, 0.3), 0px 1px 3px 1px rgba(60, 64, 67, 0.15);\n",
              "      fill: #174EA6;\n",
              "    }\n",
              "\n",
              "    [theme=dark] .colab-df-convert {\n",
              "      background-color: #3B4455;\n",
              "      fill: #D2E3FC;\n",
              "    }\n",
              "\n",
              "    [theme=dark] .colab-df-convert:hover {\n",
              "      background-color: #434B5C;\n",
              "      box-shadow: 0px 1px 3px 1px rgba(0, 0, 0, 0.15);\n",
              "      filter: drop-shadow(0px 1px 2px rgba(0, 0, 0, 0.3));\n",
              "      fill: #FFFFFF;\n",
              "    }\n",
              "  </style>\n",
              "\n",
              "      <script>\n",
              "        const buttonEl =\n",
              "          document.querySelector('#df-023d646d-0094-4f06-9251-b097dc254737 button.colab-df-convert');\n",
              "        buttonEl.style.display =\n",
              "          google.colab.kernel.accessAllowed ? 'block' : 'none';\n",
              "\n",
              "        async function convertToInteractive(key) {\n",
              "          const element = document.querySelector('#df-023d646d-0094-4f06-9251-b097dc254737');\n",
              "          const dataTable =\n",
              "            await google.colab.kernel.invokeFunction('convertToInteractive',\n",
              "                                                     [key], {});\n",
              "          if (!dataTable) return;\n",
              "\n",
              "          const docLinkHtml = 'Like what you see? Visit the ' +\n",
              "            '<a target=\"_blank\" href=https://colab.research.google.com/notebooks/data_table.ipynb>data table notebook</a>'\n",
              "            + ' to learn more about interactive tables.';\n",
              "          element.innerHTML = '';\n",
              "          dataTable['output_type'] = 'display_data';\n",
              "          await google.colab.output.renderOutput(dataTable, element);\n",
              "          const docLink = document.createElement('div');\n",
              "          docLink.innerHTML = docLinkHtml;\n",
              "          element.appendChild(docLink);\n",
              "        }\n",
              "      </script>\n",
              "    </div>\n",
              "  </div>\n",
              "  "
            ]
          },
          "metadata": {},
          "execution_count": 75
        }
      ]
    },
    {
      "cell_type": "code",
      "source": [
        "show_similarity('Love like hate')"
      ],
      "metadata": {
        "colab": {
          "base_uri": "https://localhost:8080/",
          "height": 143
        },
        "id": "bu1kiG1yFlnm",
        "outputId": "dd649ce0-d785-4cb1-eb0b-5c3f88ae26d9"
      },
      "execution_count": 76,
      "outputs": [
        {
          "output_type": "execute_result",
          "data": {
            "text/plain": [
              "          Love      like      hate  Out of Vocabulary\n",
              "Love  1.000000  0.657904  0.639310                0.0\n",
              "like  0.657904  1.000000  0.657465                0.0\n",
              "hate  0.639310  0.657465  1.000000                0.0"
            ],
            "text/html": [
              "\n",
              "  <div id=\"df-45a7f0a3-34c3-4178-9209-119dcaecbe25\">\n",
              "    <div class=\"colab-df-container\">\n",
              "      <div>\n",
              "<style scoped>\n",
              "    .dataframe tbody tr th:only-of-type {\n",
              "        vertical-align: middle;\n",
              "    }\n",
              "\n",
              "    .dataframe tbody tr th {\n",
              "        vertical-align: top;\n",
              "    }\n",
              "\n",
              "    .dataframe thead th {\n",
              "        text-align: right;\n",
              "    }\n",
              "</style>\n",
              "<table border=\"1\" class=\"dataframe\">\n",
              "  <thead>\n",
              "    <tr style=\"text-align: right;\">\n",
              "      <th></th>\n",
              "      <th>Love</th>\n",
              "      <th>like</th>\n",
              "      <th>hate</th>\n",
              "      <th>Out of Vocabulary</th>\n",
              "    </tr>\n",
              "  </thead>\n",
              "  <tbody>\n",
              "    <tr>\n",
              "      <th>Love</th>\n",
              "      <td>1.000000</td>\n",
              "      <td>0.657904</td>\n",
              "      <td>0.639310</td>\n",
              "      <td>0.0</td>\n",
              "    </tr>\n",
              "    <tr>\n",
              "      <th>like</th>\n",
              "      <td>0.657904</td>\n",
              "      <td>1.000000</td>\n",
              "      <td>0.657465</td>\n",
              "      <td>0.0</td>\n",
              "    </tr>\n",
              "    <tr>\n",
              "      <th>hate</th>\n",
              "      <td>0.639310</td>\n",
              "      <td>0.657465</td>\n",
              "      <td>1.000000</td>\n",
              "      <td>0.0</td>\n",
              "    </tr>\n",
              "  </tbody>\n",
              "</table>\n",
              "</div>\n",
              "      <button class=\"colab-df-convert\" onclick=\"convertToInteractive('df-45a7f0a3-34c3-4178-9209-119dcaecbe25')\"\n",
              "              title=\"Convert this dataframe to an interactive table.\"\n",
              "              style=\"display:none;\">\n",
              "        \n",
              "  <svg xmlns=\"http://www.w3.org/2000/svg\" height=\"24px\"viewBox=\"0 0 24 24\"\n",
              "       width=\"24px\">\n",
              "    <path d=\"M0 0h24v24H0V0z\" fill=\"none\"/>\n",
              "    <path d=\"M18.56 5.44l.94 2.06.94-2.06 2.06-.94-2.06-.94-.94-2.06-.94 2.06-2.06.94zm-11 1L8.5 8.5l.94-2.06 2.06-.94-2.06-.94L8.5 2.5l-.94 2.06-2.06.94zm10 10l.94 2.06.94-2.06 2.06-.94-2.06-.94-.94-2.06-.94 2.06-2.06.94z\"/><path d=\"M17.41 7.96l-1.37-1.37c-.4-.4-.92-.59-1.43-.59-.52 0-1.04.2-1.43.59L10.3 9.45l-7.72 7.72c-.78.78-.78 2.05 0 2.83L4 21.41c.39.39.9.59 1.41.59.51 0 1.02-.2 1.41-.59l7.78-7.78 2.81-2.81c.8-.78.8-2.07 0-2.86zM5.41 20L4 18.59l7.72-7.72 1.47 1.35L5.41 20z\"/>\n",
              "  </svg>\n",
              "      </button>\n",
              "      \n",
              "  <style>\n",
              "    .colab-df-container {\n",
              "      display:flex;\n",
              "      flex-wrap:wrap;\n",
              "      gap: 12px;\n",
              "    }\n",
              "\n",
              "    .colab-df-convert {\n",
              "      background-color: #E8F0FE;\n",
              "      border: none;\n",
              "      border-radius: 50%;\n",
              "      cursor: pointer;\n",
              "      display: none;\n",
              "      fill: #1967D2;\n",
              "      height: 32px;\n",
              "      padding: 0 0 0 0;\n",
              "      width: 32px;\n",
              "    }\n",
              "\n",
              "    .colab-df-convert:hover {\n",
              "      background-color: #E2EBFA;\n",
              "      box-shadow: 0px 1px 2px rgba(60, 64, 67, 0.3), 0px 1px 3px 1px rgba(60, 64, 67, 0.15);\n",
              "      fill: #174EA6;\n",
              "    }\n",
              "\n",
              "    [theme=dark] .colab-df-convert {\n",
              "      background-color: #3B4455;\n",
              "      fill: #D2E3FC;\n",
              "    }\n",
              "\n",
              "    [theme=dark] .colab-df-convert:hover {\n",
              "      background-color: #434B5C;\n",
              "      box-shadow: 0px 1px 3px 1px rgba(0, 0, 0, 0.15);\n",
              "      filter: drop-shadow(0px 1px 2px rgba(0, 0, 0, 0.3));\n",
              "      fill: #FFFFFF;\n",
              "    }\n",
              "  </style>\n",
              "\n",
              "      <script>\n",
              "        const buttonEl =\n",
              "          document.querySelector('#df-45a7f0a3-34c3-4178-9209-119dcaecbe25 button.colab-df-convert');\n",
              "        buttonEl.style.display =\n",
              "          google.colab.kernel.accessAllowed ? 'block' : 'none';\n",
              "\n",
              "        async function convertToInteractive(key) {\n",
              "          const element = document.querySelector('#df-45a7f0a3-34c3-4178-9209-119dcaecbe25');\n",
              "          const dataTable =\n",
              "            await google.colab.kernel.invokeFunction('convertToInteractive',\n",
              "                                                     [key], {});\n",
              "          if (!dataTable) return;\n",
              "\n",
              "          const docLinkHtml = 'Like what you see? Visit the ' +\n",
              "            '<a target=\"_blank\" href=https://colab.research.google.com/notebooks/data_table.ipynb>data table notebook</a>'\n",
              "            + ' to learn more about interactive tables.';\n",
              "          element.innerHTML = '';\n",
              "          dataTable['output_type'] = 'display_data';\n",
              "          await google.colab.output.renderOutput(dataTable, element);\n",
              "          const docLink = document.createElement('div');\n",
              "          docLink.innerHTML = docLinkHtml;\n",
              "          element.appendChild(docLink);\n",
              "        }\n",
              "      </script>\n",
              "    </div>\n",
              "  </div>\n",
              "  "
            ]
          },
          "metadata": {},
          "execution_count": 76
        }
      ]
    },
    {
      "cell_type": "code",
      "source": [
        "nlp.vocab.vectors.shape"
      ],
      "metadata": {
        "colab": {
          "base_uri": "https://localhost:8080/"
        },
        "id": "qBchphnuF6g4",
        "outputId": "7c4db9d4-9192-48da-f4b1-ad84b2f26a63"
      },
      "execution_count": 77,
      "outputs": [
        {
          "output_type": "execute_result",
          "data": {
            "text/plain": [
              "(684831, 300)"
            ]
          },
          "metadata": {},
          "execution_count": 77
        }
      ]
    },
    {
      "cell_type": "code",
      "source": [
        "show_similarity('mresi has a cat')"
      ],
      "metadata": {
        "colab": {
          "base_uri": "https://localhost:8080/",
          "height": 403
        },
        "id": "JQxieRU7L01q",
        "outputId": "6b89da5f-2638-45b5-d06a-a269fb3918b3"
      },
      "execution_count": 79,
      "outputs": [
        {
          "output_type": "stream",
          "name": "stderr",
          "text": [
            "/usr/lib/python3.7/runpy.py:193: UserWarning: [W008] Evaluating Token.similarity based on empty vectors.\n",
            "  \"__main__\", mod_spec)\n",
            "/usr/lib/python3.7/runpy.py:193: UserWarning: [W008] Evaluating Token.similarity based on empty vectors.\n",
            "  \"__main__\", mod_spec)\n",
            "/usr/lib/python3.7/runpy.py:193: UserWarning: [W008] Evaluating Token.similarity based on empty vectors.\n",
            "  \"__main__\", mod_spec)\n",
            "/usr/lib/python3.7/runpy.py:193: UserWarning: [W008] Evaluating Token.similarity based on empty vectors.\n",
            "  \"__main__\", mod_spec)\n",
            "/usr/lib/python3.7/runpy.py:193: UserWarning: [W008] Evaluating Token.similarity based on empty vectors.\n",
            "  \"__main__\", mod_spec)\n",
            "/usr/lib/python3.7/runpy.py:193: UserWarning: [W008] Evaluating Token.similarity based on empty vectors.\n",
            "  \"__main__\", mod_spec)\n"
          ]
        },
        {
          "output_type": "execute_result",
          "data": {
            "text/plain": [
              "       mresi       has         a       cat  Out of Vocabulary\n",
              "mresi    1.0  0.000000  0.000000  0.000000                1.0\n",
              "has      0.0  1.000000  0.527749  0.253574                0.0\n",
              "a        0.0  0.527749  1.000000  0.304866                0.0\n",
              "cat      0.0  0.253574  0.304866  1.000000                0.0"
            ],
            "text/html": [
              "\n",
              "  <div id=\"df-53e2d69f-7215-4978-a902-274aca3886d4\">\n",
              "    <div class=\"colab-df-container\">\n",
              "      <div>\n",
              "<style scoped>\n",
              "    .dataframe tbody tr th:only-of-type {\n",
              "        vertical-align: middle;\n",
              "    }\n",
              "\n",
              "    .dataframe tbody tr th {\n",
              "        vertical-align: top;\n",
              "    }\n",
              "\n",
              "    .dataframe thead th {\n",
              "        text-align: right;\n",
              "    }\n",
              "</style>\n",
              "<table border=\"1\" class=\"dataframe\">\n",
              "  <thead>\n",
              "    <tr style=\"text-align: right;\">\n",
              "      <th></th>\n",
              "      <th>mresi</th>\n",
              "      <th>has</th>\n",
              "      <th>a</th>\n",
              "      <th>cat</th>\n",
              "      <th>Out of Vocabulary</th>\n",
              "    </tr>\n",
              "  </thead>\n",
              "  <tbody>\n",
              "    <tr>\n",
              "      <th>mresi</th>\n",
              "      <td>1.0</td>\n",
              "      <td>0.000000</td>\n",
              "      <td>0.000000</td>\n",
              "      <td>0.000000</td>\n",
              "      <td>1.0</td>\n",
              "    </tr>\n",
              "    <tr>\n",
              "      <th>has</th>\n",
              "      <td>0.0</td>\n",
              "      <td>1.000000</td>\n",
              "      <td>0.527749</td>\n",
              "      <td>0.253574</td>\n",
              "      <td>0.0</td>\n",
              "    </tr>\n",
              "    <tr>\n",
              "      <th>a</th>\n",
              "      <td>0.0</td>\n",
              "      <td>0.527749</td>\n",
              "      <td>1.000000</td>\n",
              "      <td>0.304866</td>\n",
              "      <td>0.0</td>\n",
              "    </tr>\n",
              "    <tr>\n",
              "      <th>cat</th>\n",
              "      <td>0.0</td>\n",
              "      <td>0.253574</td>\n",
              "      <td>0.304866</td>\n",
              "      <td>1.000000</td>\n",
              "      <td>0.0</td>\n",
              "    </tr>\n",
              "  </tbody>\n",
              "</table>\n",
              "</div>\n",
              "      <button class=\"colab-df-convert\" onclick=\"convertToInteractive('df-53e2d69f-7215-4978-a902-274aca3886d4')\"\n",
              "              title=\"Convert this dataframe to an interactive table.\"\n",
              "              style=\"display:none;\">\n",
              "        \n",
              "  <svg xmlns=\"http://www.w3.org/2000/svg\" height=\"24px\"viewBox=\"0 0 24 24\"\n",
              "       width=\"24px\">\n",
              "    <path d=\"M0 0h24v24H0V0z\" fill=\"none\"/>\n",
              "    <path d=\"M18.56 5.44l.94 2.06.94-2.06 2.06-.94-2.06-.94-.94-2.06-.94 2.06-2.06.94zm-11 1L8.5 8.5l.94-2.06 2.06-.94-2.06-.94L8.5 2.5l-.94 2.06-2.06.94zm10 10l.94 2.06.94-2.06 2.06-.94-2.06-.94-.94-2.06-.94 2.06-2.06.94z\"/><path d=\"M17.41 7.96l-1.37-1.37c-.4-.4-.92-.59-1.43-.59-.52 0-1.04.2-1.43.59L10.3 9.45l-7.72 7.72c-.78.78-.78 2.05 0 2.83L4 21.41c.39.39.9.59 1.41.59.51 0 1.02-.2 1.41-.59l7.78-7.78 2.81-2.81c.8-.78.8-2.07 0-2.86zM5.41 20L4 18.59l7.72-7.72 1.47 1.35L5.41 20z\"/>\n",
              "  </svg>\n",
              "      </button>\n",
              "      \n",
              "  <style>\n",
              "    .colab-df-container {\n",
              "      display:flex;\n",
              "      flex-wrap:wrap;\n",
              "      gap: 12px;\n",
              "    }\n",
              "\n",
              "    .colab-df-convert {\n",
              "      background-color: #E8F0FE;\n",
              "      border: none;\n",
              "      border-radius: 50%;\n",
              "      cursor: pointer;\n",
              "      display: none;\n",
              "      fill: #1967D2;\n",
              "      height: 32px;\n",
              "      padding: 0 0 0 0;\n",
              "      width: 32px;\n",
              "    }\n",
              "\n",
              "    .colab-df-convert:hover {\n",
              "      background-color: #E2EBFA;\n",
              "      box-shadow: 0px 1px 2px rgba(60, 64, 67, 0.3), 0px 1px 3px 1px rgba(60, 64, 67, 0.15);\n",
              "      fill: #174EA6;\n",
              "    }\n",
              "\n",
              "    [theme=dark] .colab-df-convert {\n",
              "      background-color: #3B4455;\n",
              "      fill: #D2E3FC;\n",
              "    }\n",
              "\n",
              "    [theme=dark] .colab-df-convert:hover {\n",
              "      background-color: #434B5C;\n",
              "      box-shadow: 0px 1px 3px 1px rgba(0, 0, 0, 0.15);\n",
              "      filter: drop-shadow(0px 1px 2px rgba(0, 0, 0, 0.3));\n",
              "      fill: #FFFFFF;\n",
              "    }\n",
              "  </style>\n",
              "\n",
              "      <script>\n",
              "        const buttonEl =\n",
              "          document.querySelector('#df-53e2d69f-7215-4978-a902-274aca3886d4 button.colab-df-convert');\n",
              "        buttonEl.style.display =\n",
              "          google.colab.kernel.accessAllowed ? 'block' : 'none';\n",
              "\n",
              "        async function convertToInteractive(key) {\n",
              "          const element = document.querySelector('#df-53e2d69f-7215-4978-a902-274aca3886d4');\n",
              "          const dataTable =\n",
              "            await google.colab.kernel.invokeFunction('convertToInteractive',\n",
              "                                                     [key], {});\n",
              "          if (!dataTable) return;\n",
              "\n",
              "          const docLinkHtml = 'Like what you see? Visit the ' +\n",
              "            '<a target=\"_blank\" href=https://colab.research.google.com/notebooks/data_table.ipynb>data table notebook</a>'\n",
              "            + ' to learn more about interactive tables.';\n",
              "          element.innerHTML = '';\n",
              "          dataTable['output_type'] = 'display_data';\n",
              "          await google.colab.output.renderOutput(dataTable, element);\n",
              "          const docLink = document.createElement('div');\n",
              "          docLink.innerHTML = docLinkHtml;\n",
              "          element.appendChild(docLink);\n",
              "        }\n",
              "      </script>\n",
              "    </div>\n",
              "  </div>\n",
              "  "
            ]
          },
          "metadata": {},
          "execution_count": 79
        }
      ]
    },
    {
      "cell_type": "code",
      "source": [
        "from scipy import spatial\n",
        "cos_sim = lambda vec1, vec2: 1 - spatial.distance.cosine(vec1, vec2)"
      ],
      "metadata": {
        "id": "3qEFZCO6L8iX"
      },
      "execution_count": 98,
      "outputs": []
    },
    {
      "cell_type": "code",
      "source": [
        "king = nlp.vocab['king'].vector\n",
        "man = nlp.vocab['man'].vector\n",
        "woman = nlp.vocab['woman'].vector"
      ],
      "metadata": {
        "id": "nsoI72vBO20G"
      },
      "execution_count": 99,
      "outputs": []
    },
    {
      "cell_type": "code",
      "source": [
        "new_vec = king - man + woman"
      ],
      "metadata": {
        "id": "lxzsxOTdPEYm"
      },
      "execution_count": 100,
      "outputs": []
    },
    {
      "cell_type": "code",
      "source": [
        "computed_sim = []\n",
        "for word in nlp.vocab:\n",
        "  if word.has_vector & word.is_lower & word.is_alpha:\n",
        "    sim = cos_sim(new_vec, word.vector)\n",
        "    computed_sim.append((word.text, sim))"
      ],
      "metadata": {
        "id": "1efm1i4TPPUh"
      },
      "execution_count": 106,
      "outputs": []
    },
    {
      "cell_type": "code",
      "source": [
        "computed_sim = sorted(computed_sim, key=lambda x: -x[1])"
      ],
      "metadata": {
        "id": "Llors8T5P1Nb"
      },
      "execution_count": 107,
      "outputs": []
    },
    {
      "cell_type": "code",
      "source": [
        "computed_sim[:20]"
      ],
      "metadata": {
        "colab": {
          "base_uri": "https://localhost:8080/"
        },
        "id": "V_WRLhz_QtFy",
        "outputId": "f1cfc472-2a3b-4991-f870-6f4fe2507544"
      },
      "execution_count": 110,
      "outputs": [
        {
          "output_type": "execute_result",
          "data": {
            "text/plain": [
              "[('king', 0.8024259805679321),\n",
              " ('queen', 0.7880843877792358),\n",
              " ('prince', 0.6401076912879944),\n",
              " ('kings', 0.6208544373512268),\n",
              " ('princess', 0.6125636100769043),\n",
              " ('royal', 0.5800970792770386),\n",
              " ('throne', 0.5787012577056885),\n",
              " ('queens', 0.5743793845176697),\n",
              " ('monarch', 0.563362181186676),\n",
              " ('kingdom', 0.5520980954170227),\n",
              " ('empress', 0.528952956199646),\n",
              " ('lady', 0.5254388451576233),\n",
              " ('woman', 0.5150813460350037),\n",
              " ('princes', 0.5051530599594116),\n",
              " ('mother', 0.497583270072937),\n",
              " ('duke', 0.4868083894252777),\n",
              " ('emperor', 0.47984421253204346),\n",
              " ('reign', 0.47829094529151917),\n",
              " ('goddess', 0.4750741422176361),\n",
              " ('lord', 0.47107836604118347)]"
            ]
          },
          "metadata": {},
          "execution_count": 110
        }
      ]
    },
    {
      "cell_type": "code",
      "source": [
        "def words_semantic_finder(word1, word2, word3):\n",
        "  word1 = nlp.vocab[word1].vector\n",
        "  word2 = nlp.vocab[word2].vector\n",
        "  word3 = nlp.vocab[word3].vector\n",
        "  new_vec = word1 - word2 + word3\n",
        "  computed_sim = []\n",
        "  for word in nlp.vocab:\n",
        "    if word.has_vector & word.is_lower & word.is_alpha:\n",
        "      sim = cos_sim(new_vec, word.vector)\n",
        "      computed_sim.append((word.text, sim))\n",
        "  computed_sim = sorted(computed_sim, key=lambda x: -x[1])\n",
        "  return computed_sim"
      ],
      "metadata": {
        "id": "NC37NsWIQxJm"
      },
      "execution_count": 115,
      "outputs": []
    },
    {
      "cell_type": "code",
      "source": [
        "words_semantic_finder('king', 'boy', 'girl')[:20]"
      ],
      "metadata": {
        "colab": {
          "base_uri": "https://localhost:8080/"
        },
        "id": "1jITMHOHWcW3",
        "outputId": "1e7f8c9d-e5dd-4038-e9f2-4da46a445f1e"
      },
      "execution_count": 116,
      "outputs": [
        {
          "output_type": "execute_result",
          "data": {
            "text/plain": [
              "[('king', 0.8568281531333923),\n",
              " ('queen', 0.7856624722480774),\n",
              " ('kings', 0.6898518800735474),\n",
              " ('prince', 0.6412386298179626),\n",
              " ('kingdom', 0.6164750456809998),\n",
              " ('princess', 0.6089317798614502),\n",
              " ('throne', 0.596087634563446),\n",
              " ('royal', 0.5812860727310181),\n",
              " ('queens', 0.569563627243042),\n",
              " ('lord', 0.5553606152534485),\n",
              " ('princes', 0.5458647012710571),\n",
              " ('monarch', 0.5391060709953308),\n",
              " ('reign', 0.5153759121894836),\n",
              " ('lady', 0.5148307681083679),\n",
              " ('empress', 0.5122785568237305),\n",
              " ('duke', 0.5011358857154846),\n",
              " ('goddess', 0.4867176413536072),\n",
              " ('lords', 0.48484835028648376),\n",
              " ('emperor', 0.4745334982872009),\n",
              " ('knight', 0.4688780605792999)]"
            ]
          },
          "metadata": {},
          "execution_count": 116
        }
      ]
    },
    {
      "cell_type": "code",
      "source": [
        "words_semantic_finder('lion', 'cat', 'wolf')[:20]"
      ],
      "metadata": {
        "colab": {
          "base_uri": "https://localhost:8080/"
        },
        "id": "pARPVI4ERyU1",
        "outputId": "38572b8e-09b6-49ae-d804-3cc653cd79ed"
      },
      "execution_count": 117,
      "outputs": [
        {
          "output_type": "execute_result",
          "data": {
            "text/plain": [
              "[('wolf', 0.756814181804657),\n",
              " ('lion', 0.7427126169204712),\n",
              " ('wolves', 0.6611201763153076),\n",
              " ('lions', 0.602623462677002),\n",
              " ('grizzly', 0.5764345526695251),\n",
              " ('panther', 0.5451298356056213),\n",
              " ('bison', 0.5295594334602356),\n",
              " ('caribou', 0.5287589430809021),\n",
              " ('eagle', 0.5241438150405884),\n",
              " ('jackal', 0.522642970085144),\n",
              " ('moose', 0.5224730372428894),\n",
              " ('lioness', 0.5200225114822388),\n",
              " ('tiger', 0.519088864326477),\n",
              " ('bear', 0.5143458843231201),\n",
              " ('wolfs', 0.514160692691803),\n",
              " ('antelope', 0.5052971243858337),\n",
              " ('elk', 0.5040181875228882),\n",
              " ('bears', 0.5002385377883911),\n",
              " ('buffalo', 0.4995751976966858),\n",
              " ('hyena', 0.49791601300239563)]"
            ]
          },
          "metadata": {},
          "execution_count": 117
        }
      ]
    },
    {
      "cell_type": "code",
      "source": [
        "words_semantic_finder('whale', 'shark', 'horse')[:20]"
      ],
      "metadata": {
        "colab": {
          "base_uri": "https://localhost:8080/"
        },
        "id": "mMDoTT4TR51z",
        "outputId": "334c9b80-3b86-453d-a5c7-b33535c4da1b"
      },
      "execution_count": 118,
      "outputs": [
        {
          "output_type": "execute_result",
          "data": {
            "text/plain": [
              "[('horse', 0.823971688747406),\n",
              " ('horses', 0.7489991188049316),\n",
              " ('pony', 0.5968052744865417),\n",
              " ('riding', 0.5651798248291016),\n",
              " ('horseback', 0.5622166991233826),\n",
              " ('equine', 0.5608040690422058),\n",
              " ('stallion', 0.5574216246604919),\n",
              " ('donkey', 0.5497463941574097),\n",
              " ('cow', 0.5484589338302612),\n",
              " ('ponies', 0.5426840782165527),\n",
              " ('cattle', 0.5332987308502197),\n",
              " ('stables', 0.5270552635192871),\n",
              " ('sheep', 0.5153661966323853),\n",
              " ('camel', 0.5143934488296509),\n",
              " ('thoroughbred', 0.5129441618919373),\n",
              " ('herd', 0.5127334594726562),\n",
              " ('equestrian', 0.5054941773414612),\n",
              " ('mule', 0.4975702166557312),\n",
              " ('foal', 0.4958617091178894),\n",
              " ('rides', 0.4918358623981476)]"
            ]
          },
          "metadata": {},
          "execution_count": 118
        }
      ]
    },
    {
      "cell_type": "code",
      "source": [
        "words_semantic_finder('car', 'driver', 'horse')[:20]"
      ],
      "metadata": {
        "colab": {
          "base_uri": "https://localhost:8080/"
        },
        "id": "rPPWMPDDXCw2",
        "outputId": "f3e731ef-8625-486f-bb8c-dcb8469ad65e"
      },
      "execution_count": 119,
      "outputs": [
        {
          "output_type": "execute_result",
          "data": {
            "text/plain": [
              "[('horse', 0.7095716595649719),\n",
              " ('horses', 0.6396541595458984),\n",
              " ('pony', 0.5714321136474609),\n",
              " ('car', 0.5330120325088501),\n",
              " ('dog', 0.5203853249549866),\n",
              " ('cars', 0.4889605939388275),\n",
              " ('barn', 0.4851994216442108),\n",
              " ('ponies', 0.47962620854377747),\n",
              " ('riding', 0.4754590392112732),\n",
              " ('pet', 0.4669674038887024),\n",
              " ('dogs', 0.4663594663143158),\n",
              " ('equine', 0.4583134055137634),\n",
              " ('wagon', 0.4537166953086853),\n",
              " ('cow', 0.4486503601074219),\n",
              " ('sale', 0.44611844420433044),\n",
              " ('stallion', 0.44571322202682495),\n",
              " ('equestrian', 0.44530200958251953),\n",
              " ('stables', 0.44267934560775757),\n",
              " ('puppy', 0.4357976019382477),\n",
              " ('sheep', 0.42969900369644165)]"
            ]
          },
          "metadata": {},
          "execution_count": 119
        }
      ]
    },
    {
      "cell_type": "markdown",
      "source": [
        "#####VADER\n",
        "######Valence Aware Dictionary for Sentiment Reasoning\n",
        "######it is a model that used for sentiment analysis that is sensitive to both polarity and intensity"
      ],
      "metadata": {
        "id": "_ijDB3CUX1lw"
      }
    },
    {
      "cell_type": "code",
      "source": [
        "import nltk"
      ],
      "metadata": {
        "id": "MRd1RbiXXpWY"
      },
      "execution_count": 120,
      "outputs": []
    },
    {
      "cell_type": "code",
      "source": [
        "nltk.download('vader_lexicon')"
      ],
      "metadata": {
        "colab": {
          "base_uri": "https://localhost:8080/"
        },
        "id": "OZZNCZ7BajPX",
        "outputId": "fa921649-8b94-4ec6-f27d-77668d81a138"
      },
      "execution_count": 121,
      "outputs": [
        {
          "output_type": "stream",
          "name": "stdout",
          "text": [
            "[nltk_data] Downloading package vader_lexicon to /root/nltk_data...\n"
          ]
        },
        {
          "output_type": "execute_result",
          "data": {
            "text/plain": [
              "True"
            ]
          },
          "metadata": {},
          "execution_count": 121
        }
      ]
    },
    {
      "cell_type": "code",
      "source": [
        "from nltk.sentiment.vader import SentimentIntensityAnalyzer"
      ],
      "metadata": {
        "id": "k6oexRmJalzG"
      },
      "execution_count": 127,
      "outputs": []
    },
    {
      "cell_type": "code",
      "source": [
        "sid = SentimentIntensityAnalyzer()"
      ],
      "metadata": {
        "id": "10GFUXL-awTo"
      },
      "execution_count": 128,
      "outputs": []
    },
    {
      "cell_type": "code",
      "source": [
        "text = 'I liked this movie'"
      ],
      "metadata": {
        "id": "aowuJDNFax1o"
      },
      "execution_count": 131,
      "outputs": []
    },
    {
      "cell_type": "code",
      "source": [
        "#Has 4 categories:   Neg, Pos, Neu, Compund\n",
        "\n",
        "sid.polarity_scores(text)"
      ],
      "metadata": {
        "colab": {
          "base_uri": "https://localhost:8080/"
        },
        "id": "iYib5chKbMHQ",
        "outputId": "14b38974-145e-4b2d-9d27-c78152439c26"
      },
      "execution_count": 133,
      "outputs": [
        {
          "output_type": "execute_result",
          "data": {
            "text/plain": [
              "{'compound': -0.1531, 'neg': 0.415, 'neu': 0.244, 'pos': 0.341}"
            ]
          },
          "metadata": {},
          "execution_count": 133
        }
      ]
    },
    {
      "cell_type": "code",
      "source": [
        "text = 'I liked this disgusting movie'"
      ],
      "metadata": {
        "id": "oT7zlWIkbRPs"
      },
      "execution_count": 134,
      "outputs": []
    },
    {
      "cell_type": "code",
      "source": [
        "sid.polarity_scores(text)"
      ],
      "metadata": {
        "colab": {
          "base_uri": "https://localhost:8080/"
        },
        "id": "d0LMn_GLbYKY",
        "outputId": "0a77405e-f6f6-4495-92fa-9b1195301630"
      },
      "execution_count": 135,
      "outputs": [
        {
          "output_type": "execute_result",
          "data": {
            "text/plain": [
              "{'compound': -0.1531, 'neg': 0.415, 'neu': 0.244, 'pos': 0.341}"
            ]
          },
          "metadata": {},
          "execution_count": 135
        }
      ]
    },
    {
      "cell_type": "code",
      "source": [
        ""
      ],
      "metadata": {
        "id": "i6xYpwVMbYXY"
      },
      "execution_count": null,
      "outputs": []
    }
  ]
}