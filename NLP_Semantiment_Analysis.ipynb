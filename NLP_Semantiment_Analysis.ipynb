{
  "nbformat": 4,
  "nbformat_minor": 0,
  "metadata": {
    "colab": {
      "name": "NLP-Semantiment-Analysis.ipynb",
      "provenance": [],
      "collapsed_sections": [],
      "authorship_tag": "ABX9TyMFmlYt21BdzMsANkus2jOW",
      "include_colab_link": true
    },
    "kernelspec": {
      "name": "python3",
      "display_name": "Python 3"
    },
    "language_info": {
      "name": "python"
    }
  },
  "cells": [
    {
      "cell_type": "markdown",
      "metadata": {
        "id": "view-in-github",
        "colab_type": "text"
      },
      "source": [
        "<a href=\"https://colab.research.google.com/github/mr-alamdari/NLP-Semantiment-Analysis/blob/main/NLP_Semantiment_Analysis.ipynb\" target=\"_parent\"><img src=\"https://colab.research.google.com/assets/colab-badge.svg\" alt=\"Open In Colab\"/></a>"
      ]
    },
    {
      "cell_type": "code",
      "execution_count": 24,
      "metadata": {
        "id": "HCAYuvfA-tY-"
      },
      "outputs": [],
      "source": [
        "import spacy\n",
        "import numpy as np\n",
        "import pandas as pd"
      ]
    },
    {
      "cell_type": "code",
      "source": [
        "!python -m spacy download en_core_web_lg\n",
        "import en_core_web_lg\n",
        "nlp = en_core_web_lg.load()"
      ],
      "metadata": {
        "id": "E2L3K_Pr_Dti"
      },
      "execution_count": 11,
      "outputs": []
    },
    {
      "cell_type": "code",
      "source": [
        "nlp(u'Hello').vector"
      ],
      "metadata": {
        "colab": {
          "base_uri": "https://localhost:8080/"
        },
        "id": "VTISOuqxAw0w",
        "outputId": "c75de76a-8ad0-46e7-ad84-4199e6ef1be5"
      },
      "execution_count": 14,
      "outputs": [
        {
          "output_type": "execute_result",
          "data": {
            "text/plain": [
              "array([ 0.25233  ,  0.10176  , -0.67485  ,  0.21117  ,  0.43492  ,\n",
              "        0.16542  ,  0.48261  , -0.81222  ,  0.041321 ,  0.78502  ,\n",
              "       -0.077857 , -0.66324  ,  0.1464   , -0.29289  , -0.25488  ,\n",
              "        0.019293 , -0.20265  ,  0.98232  ,  0.028312 , -0.081276 ,\n",
              "       -0.1214   ,  0.13126  , -0.17648  ,  0.13556  , -0.16361  ,\n",
              "       -0.22574  ,  0.055006 , -0.20308  ,  0.20718  ,  0.095785 ,\n",
              "        0.22481  ,  0.21537  , -0.32982  , -0.12241  , -0.40031  ,\n",
              "       -0.079381 , -0.19958  , -0.015083 , -0.079139 , -0.18132  ,\n",
              "        0.20681  , -0.36196  , -0.30744  , -0.24422  , -0.23113  ,\n",
              "        0.09798  ,  0.1463   , -0.062738 ,  0.42934  , -0.078038 ,\n",
              "       -0.19627  ,  0.65093  , -0.22807  , -0.30308  , -0.12483  ,\n",
              "       -0.17568  , -0.14651  ,  0.15361  , -0.29518  ,  0.15099  ,\n",
              "       -0.51726  , -0.033564 , -0.23109  , -0.7833   ,  0.018029 ,\n",
              "       -0.15719  ,  0.02293  ,  0.49639  ,  0.029225 ,  0.05669  ,\n",
              "        0.14616  , -0.19195  ,  0.16244  ,  0.23898  ,  0.36431  ,\n",
              "        0.45263  ,  0.2456   ,  0.23803  ,  0.31399  ,  0.3487   ,\n",
              "       -0.035791 ,  0.56108  , -0.25345  ,  0.051964 , -0.10618  ,\n",
              "       -0.30962  ,  1.0585   , -0.42025  ,  0.18216  , -0.11256  ,\n",
              "        0.40576  ,  0.11784  , -0.19705  , -0.075292 ,  0.080723 ,\n",
              "       -0.02782  , -0.15617  , -0.44681  , -0.15165  ,  0.1692   ,\n",
              "        0.098255 , -0.031894 ,  0.087143 ,  0.26082  ,  0.002706 ,\n",
              "        0.1319   ,  0.34439  , -0.37894  , -0.4114   ,  0.081571 ,\n",
              "       -0.11674  , -0.43711  ,  0.011144 ,  0.099353 ,  0.26612  ,\n",
              "        0.40025  ,  0.18895  , -0.18438  , -0.30355  , -0.2725   ,\n",
              "        0.22468  , -0.40614  ,  0.15618  , -0.16043  ,  0.47147  ,\n",
              "        0.0080203,  0.56858  ,  0.21934  , -0.11181  ,  0.79925  ,\n",
              "        0.10714  , -0.50146  ,  0.063593 ,  0.069465 ,  0.15292  ,\n",
              "       -0.2747   , -0.20989  ,  0.20737  , -0.10681  ,  0.40651  ,\n",
              "       -2.6438   , -0.31139  , -0.32157  , -0.26458  , -0.35625  ,\n",
              "        0.070013 , -0.18838  ,  0.48773  , -0.26167  , -0.020805 ,\n",
              "        0.17819  ,  0.15758  , -0.13752  ,  0.056464 ,  0.30766  ,\n",
              "       -0.066136 ,  0.4748   , -0.27335  ,  0.09732  , -0.20832  ,\n",
              "        0.0039332,  0.346    , -0.08702  , -0.54924  , -0.18759  ,\n",
              "       -0.17174  ,  0.060324 , -0.13521  ,  0.10419  ,  0.30165  ,\n",
              "        0.05798  ,  0.21872  , -0.073594 , -0.20423  , -0.25279  ,\n",
              "       -0.10471  , -0.32163  ,  0.12525  , -0.31281  ,  0.0097207,\n",
              "       -0.26777  , -0.61121  , -0.11089  , -0.13652  ,  0.035135 ,\n",
              "       -0.4939   ,  0.084857 , -0.15494  , -0.063509 , -0.23935  ,\n",
              "        0.28272  ,  0.10849  , -0.3365   , -0.60764  ,  0.38576  ,\n",
              "       -0.0095438,  0.17499  , -0.52723  ,  0.62211  ,  0.19544  ,\n",
              "       -0.48977  ,  0.036582 , -0.128    , -0.016827 ,  0.25647  ,\n",
              "       -0.31698  ,  0.48257  , -0.14184  ,  0.11046  , -0.3098   ,\n",
              "       -0.63141  , -0.37268  ,  0.23183  , -0.14268  , -0.02341  ,\n",
              "        0.022255 , -0.044662 , -0.16404  , -0.25848  ,  0.1629   ,\n",
              "        0.024751 ,  0.23348  ,  0.27933  ,  0.38998  , -0.058968 ,\n",
              "        0.11355  ,  0.15673  ,  0.18583  , -0.19814  , -0.48123  ,\n",
              "       -0.035084 ,  0.078458 , -0.49833  ,  0.10855  , -0.20133  ,\n",
              "        0.05292  , -0.11583  , -0.16009  ,  0.16768  ,  0.42362  ,\n",
              "       -0.23106  ,  0.082465 ,  0.24296  , -0.16786  ,  0.0080409,\n",
              "        0.085947 ,  0.38033  ,  0.072981 ,  0.1633   ,  0.24704  ,\n",
              "       -0.11094  ,  0.15115  , -0.22068  , -0.061944 , -0.037091 ,\n",
              "       -0.087923 , -0.23181  ,  0.15035  , -0.19093  , -0.19113  ,\n",
              "       -0.11894  ,  0.094908 , -0.0043347,  0.15362  , -0.41201  ,\n",
              "       -0.3073   ,  0.18375  ,  0.40206  , -0.0034793, -0.10917  ,\n",
              "       -0.69522  ,  0.10161  , -0.079256 ,  0.40329  ,  0.22285  ,\n",
              "       -0.19374  , -0.13315  ,  0.073231 ,  0.099832 ,  0.11685  ,\n",
              "       -0.21643  , -0.1108   ,  0.10341  ,  0.097286 ,  0.11196  ,\n",
              "       -0.3894   , -0.0089363,  0.28809  , -0.10792  ,  0.028811 ,\n",
              "        0.32545  ,  0.26052  , -0.038941 ,  0.075204 ,  0.46031  ,\n",
              "       -0.06293  ,  0.21661  ,  0.17869  , -0.51917  ,  0.33591  ],\n",
              "      dtype=float32)"
            ]
          },
          "metadata": {},
          "execution_count": 14
        }
      ]
    },
    {
      "cell_type": "code",
      "source": [
        "nlp(u'Hello').vector.shape"
      ],
      "metadata": {
        "colab": {
          "base_uri": "https://localhost:8080/"
        },
        "id": "zYsXl27oBUim",
        "outputId": "f29786ac-0faf-4eec-b2e3-48a80eed1d10"
      },
      "execution_count": 15,
      "outputs": [
        {
          "output_type": "execute_result",
          "data": {
            "text/plain": [
              "(300,)"
            ]
          },
          "metadata": {},
          "execution_count": 15
        }
      ]
    },
    {
      "cell_type": "code",
      "source": [
        "nlp(u'Hello my friends, how are you doing?').vector.shape"
      ],
      "metadata": {
        "colab": {
          "base_uri": "https://localhost:8080/"
        },
        "id": "hpft2yA_C8Wp",
        "outputId": "18c85f03-1e55-4a92-825a-baee6e06978d"
      },
      "execution_count": 18,
      "outputs": [
        {
          "output_type": "execute_result",
          "data": {
            "text/plain": [
              "(300,)"
            ]
          },
          "metadata": {},
          "execution_count": 18
        }
      ]
    },
    {
      "cell_type": "code",
      "source": [
        "text = 'cat dog pet'\n",
        "tokens = nlp(text)"
      ],
      "metadata": {
        "id": "RP8uZ1G_DIGW"
      },
      "execution_count": 25,
      "outputs": []
    },
    {
      "cell_type": "code",
      "source": [
        "mat = np.zeros((len(tokens), len(tokens)))\n",
        "for i, token in enumerate(tokens):\n",
        "  for j, t in enumerate(tokens):\n",
        "    mat[i, j] = token.similarity(t)"
      ],
      "metadata": {
        "id": "y6ma6vE2Dwxe"
      },
      "execution_count": 22,
      "outputs": []
    },
    {
      "cell_type": "code",
      "source": [
        "pd.DataFrame(mat, index=text.split(), columns=text.split())"
      ],
      "metadata": {
        "colab": {
          "base_uri": "https://localhost:8080/",
          "height": 143
        },
        "id": "HDFd6EKJEXfY",
        "outputId": "269c44fd-bf83-4fe3-fb6f-ce7620b2bc8c"
      },
      "execution_count": 26,
      "outputs": [
        {
          "output_type": "execute_result",
          "data": {
            "text/plain": [
              "          cat       dog       pet\n",
              "cat  1.000000  0.801685  0.750546\n",
              "dog  0.801685  1.000000  0.805745\n",
              "pet  0.750546  0.805745  1.000000"
            ],
            "text/html": [
              "\n",
              "  <div id=\"df-c1008339-beee-4d26-a6b1-1bac465cdd3f\">\n",
              "    <div class=\"colab-df-container\">\n",
              "      <div>\n",
              "<style scoped>\n",
              "    .dataframe tbody tr th:only-of-type {\n",
              "        vertical-align: middle;\n",
              "    }\n",
              "\n",
              "    .dataframe tbody tr th {\n",
              "        vertical-align: top;\n",
              "    }\n",
              "\n",
              "    .dataframe thead th {\n",
              "        text-align: right;\n",
              "    }\n",
              "</style>\n",
              "<table border=\"1\" class=\"dataframe\">\n",
              "  <thead>\n",
              "    <tr style=\"text-align: right;\">\n",
              "      <th></th>\n",
              "      <th>cat</th>\n",
              "      <th>dog</th>\n",
              "      <th>pet</th>\n",
              "    </tr>\n",
              "  </thead>\n",
              "  <tbody>\n",
              "    <tr>\n",
              "      <th>cat</th>\n",
              "      <td>1.000000</td>\n",
              "      <td>0.801685</td>\n",
              "      <td>0.750546</td>\n",
              "    </tr>\n",
              "    <tr>\n",
              "      <th>dog</th>\n",
              "      <td>0.801685</td>\n",
              "      <td>1.000000</td>\n",
              "      <td>0.805745</td>\n",
              "    </tr>\n",
              "    <tr>\n",
              "      <th>pet</th>\n",
              "      <td>0.750546</td>\n",
              "      <td>0.805745</td>\n",
              "      <td>1.000000</td>\n",
              "    </tr>\n",
              "  </tbody>\n",
              "</table>\n",
              "</div>\n",
              "      <button class=\"colab-df-convert\" onclick=\"convertToInteractive('df-c1008339-beee-4d26-a6b1-1bac465cdd3f')\"\n",
              "              title=\"Convert this dataframe to an interactive table.\"\n",
              "              style=\"display:none;\">\n",
              "        \n",
              "  <svg xmlns=\"http://www.w3.org/2000/svg\" height=\"24px\"viewBox=\"0 0 24 24\"\n",
              "       width=\"24px\">\n",
              "    <path d=\"M0 0h24v24H0V0z\" fill=\"none\"/>\n",
              "    <path d=\"M18.56 5.44l.94 2.06.94-2.06 2.06-.94-2.06-.94-.94-2.06-.94 2.06-2.06.94zm-11 1L8.5 8.5l.94-2.06 2.06-.94-2.06-.94L8.5 2.5l-.94 2.06-2.06.94zm10 10l.94 2.06.94-2.06 2.06-.94-2.06-.94-.94-2.06-.94 2.06-2.06.94z\"/><path d=\"M17.41 7.96l-1.37-1.37c-.4-.4-.92-.59-1.43-.59-.52 0-1.04.2-1.43.59L10.3 9.45l-7.72 7.72c-.78.78-.78 2.05 0 2.83L4 21.41c.39.39.9.59 1.41.59.51 0 1.02-.2 1.41-.59l7.78-7.78 2.81-2.81c.8-.78.8-2.07 0-2.86zM5.41 20L4 18.59l7.72-7.72 1.47 1.35L5.41 20z\"/>\n",
              "  </svg>\n",
              "      </button>\n",
              "      \n",
              "  <style>\n",
              "    .colab-df-container {\n",
              "      display:flex;\n",
              "      flex-wrap:wrap;\n",
              "      gap: 12px;\n",
              "    }\n",
              "\n",
              "    .colab-df-convert {\n",
              "      background-color: #E8F0FE;\n",
              "      border: none;\n",
              "      border-radius: 50%;\n",
              "      cursor: pointer;\n",
              "      display: none;\n",
              "      fill: #1967D2;\n",
              "      height: 32px;\n",
              "      padding: 0 0 0 0;\n",
              "      width: 32px;\n",
              "    }\n",
              "\n",
              "    .colab-df-convert:hover {\n",
              "      background-color: #E2EBFA;\n",
              "      box-shadow: 0px 1px 2px rgba(60, 64, 67, 0.3), 0px 1px 3px 1px rgba(60, 64, 67, 0.15);\n",
              "      fill: #174EA6;\n",
              "    }\n",
              "\n",
              "    [theme=dark] .colab-df-convert {\n",
              "      background-color: #3B4455;\n",
              "      fill: #D2E3FC;\n",
              "    }\n",
              "\n",
              "    [theme=dark] .colab-df-convert:hover {\n",
              "      background-color: #434B5C;\n",
              "      box-shadow: 0px 1px 3px 1px rgba(0, 0, 0, 0.15);\n",
              "      filter: drop-shadow(0px 1px 2px rgba(0, 0, 0, 0.3));\n",
              "      fill: #FFFFFF;\n",
              "    }\n",
              "  </style>\n",
              "\n",
              "      <script>\n",
              "        const buttonEl =\n",
              "          document.querySelector('#df-c1008339-beee-4d26-a6b1-1bac465cdd3f button.colab-df-convert');\n",
              "        buttonEl.style.display =\n",
              "          google.colab.kernel.accessAllowed ? 'block' : 'none';\n",
              "\n",
              "        async function convertToInteractive(key) {\n",
              "          const element = document.querySelector('#df-c1008339-beee-4d26-a6b1-1bac465cdd3f');\n",
              "          const dataTable =\n",
              "            await google.colab.kernel.invokeFunction('convertToInteractive',\n",
              "                                                     [key], {});\n",
              "          if (!dataTable) return;\n",
              "\n",
              "          const docLinkHtml = 'Like what you see? Visit the ' +\n",
              "            '<a target=\"_blank\" href=https://colab.research.google.com/notebooks/data_table.ipynb>data table notebook</a>'\n",
              "            + ' to learn more about interactive tables.';\n",
              "          element.innerHTML = '';\n",
              "          dataTable['output_type'] = 'display_data';\n",
              "          await google.colab.output.renderOutput(dataTable, element);\n",
              "          const docLink = document.createElement('div');\n",
              "          docLink.innerHTML = docLinkHtml;\n",
              "          element.appendChild(docLink);\n",
              "        }\n",
              "      </script>\n",
              "    </div>\n",
              "  </div>\n",
              "  "
            ]
          },
          "metadata": {},
          "execution_count": 26
        }
      ]
    },
    {
      "cell_type": "code",
      "source": [
        ""
      ],
      "metadata": {
        "id": "H2Rj99JgEbJv"
      },
      "execution_count": null,
      "outputs": []
    }
  ]
}